{
 "cells": [
  {
   "cell_type": "code",
   "execution_count": 1,
   "metadata": {},
   "outputs": [],
   "source": [
    "import pandas as pd \n",
    "import numpy as np"
   ]
  },
  {
   "cell_type": "code",
   "execution_count": 2,
   "metadata": {},
   "outputs": [],
   "source": [
    "pd.set_option('display.max_columns', 500)"
   ]
  },
  {
   "cell_type": "code",
   "execution_count": 3,
   "metadata": {},
   "outputs": [],
   "source": [
    "df = pd.read_csv('data/COVID19MEXICO2025.csv')"
   ]
  },
  {
   "cell_type": "code",
   "execution_count": 4,
   "metadata": {},
   "outputs": [
    {
     "data": {
      "text/plain": [
       "0"
      ]
     },
     "execution_count": 4,
     "metadata": {},
     "output_type": "execute_result"
    }
   ],
   "source": [
    "df[\"ID_REGISTRO\"].duplicated().sum()"
   ]
  },
  {
   "cell_type": "code",
   "execution_count": 5,
   "metadata": {},
   "outputs": [
    {
     "data": {
      "text/html": [
       "<div>\n",
       "<style scoped>\n",
       "    .dataframe tbody tr th:only-of-type {\n",
       "        vertical-align: middle;\n",
       "    }\n",
       "\n",
       "    .dataframe tbody tr th {\n",
       "        vertical-align: top;\n",
       "    }\n",
       "\n",
       "    .dataframe thead th {\n",
       "        text-align: right;\n",
       "    }\n",
       "</style>\n",
       "<table border=\"1\" class=\"dataframe\">\n",
       "  <thead>\n",
       "    <tr style=\"text-align: right;\">\n",
       "      <th></th>\n",
       "      <th>FECHA_ACTUALIZACION</th>\n",
       "      <th>ID_REGISTRO</th>\n",
       "      <th>ORIGEN</th>\n",
       "      <th>SECTOR</th>\n",
       "      <th>ENTIDAD_UM</th>\n",
       "      <th>SEXO</th>\n",
       "      <th>ENTIDAD_NAC</th>\n",
       "      <th>ENTIDAD_RES</th>\n",
       "      <th>MUNICIPIO_RES</th>\n",
       "      <th>TIPO_PACIENTE</th>\n",
       "      <th>FECHA_INGRESO</th>\n",
       "      <th>FECHA_SINTOMAS</th>\n",
       "      <th>FECHA_DEF</th>\n",
       "      <th>INTUBADO</th>\n",
       "      <th>NEUMONIA</th>\n",
       "      <th>EDAD</th>\n",
       "      <th>NACIONALIDAD</th>\n",
       "      <th>EMBARAZO</th>\n",
       "      <th>HABLA_LENGUA_INDIG</th>\n",
       "      <th>INDIGENA</th>\n",
       "      <th>DIABETES</th>\n",
       "      <th>EPOC</th>\n",
       "      <th>ASMA</th>\n",
       "      <th>INMUSUPR</th>\n",
       "      <th>HIPERTENSION</th>\n",
       "      <th>OTRA_COM</th>\n",
       "      <th>CARDIOVASCULAR</th>\n",
       "      <th>OBESIDAD</th>\n",
       "      <th>RENAL_CRONICA</th>\n",
       "      <th>TABAQUISMO</th>\n",
       "      <th>OTRO_CASO</th>\n",
       "      <th>TOMA_MUESTRA_LAB</th>\n",
       "      <th>RESULTADO_PCR</th>\n",
       "      <th>RESULTADO_PCR_COINFECCION</th>\n",
       "      <th>TOMA_MUESTRA_ANTIGENO</th>\n",
       "      <th>RESULTADO_ANTIGENO</th>\n",
       "      <th>CLASIFICACION_FINAL_COVID</th>\n",
       "      <th>CLASIFICACION_FINAL_FLU</th>\n",
       "      <th>MIGRANTE</th>\n",
       "      <th>PAIS_NACIONALIDAD</th>\n",
       "      <th>PAIS_ORIGEN</th>\n",
       "      <th>UCI</th>\n",
       "    </tr>\n",
       "  </thead>\n",
       "  <tbody>\n",
       "    <tr>\n",
       "      <th>0</th>\n",
       "      <td>2025-03-04</td>\n",
       "      <td>0aa89f</td>\n",
       "      <td>1</td>\n",
       "      <td>10</td>\n",
       "      <td>9</td>\n",
       "      <td>2</td>\n",
       "      <td>15</td>\n",
       "      <td>9</td>\n",
       "      <td>3</td>\n",
       "      <td>1</td>\n",
       "      <td>2024-01-26</td>\n",
       "      <td>2024-01-25</td>\n",
       "      <td>9999-99-99</td>\n",
       "      <td>97</td>\n",
       "      <td>2</td>\n",
       "      <td>31</td>\n",
       "      <td>1</td>\n",
       "      <td>97</td>\n",
       "      <td>2</td>\n",
       "      <td>2</td>\n",
       "      <td>2</td>\n",
       "      <td>2</td>\n",
       "      <td>2</td>\n",
       "      <td>2</td>\n",
       "      <td>2</td>\n",
       "      <td>2</td>\n",
       "      <td>2</td>\n",
       "      <td>2</td>\n",
       "      <td>2</td>\n",
       "      <td>2</td>\n",
       "      <td>1</td>\n",
       "      <td>1</td>\n",
       "      <td>5</td>\n",
       "      <td>5</td>\n",
       "      <td>2</td>\n",
       "      <td>97</td>\n",
       "      <td>7</td>\n",
       "      <td>7</td>\n",
       "      <td>99</td>\n",
       "      <td>México</td>\n",
       "      <td>97</td>\n",
       "      <td>97</td>\n",
       "    </tr>\n",
       "    <tr>\n",
       "      <th>1</th>\n",
       "      <td>2025-03-04</td>\n",
       "      <td>g76bd10</td>\n",
       "      <td>1</td>\n",
       "      <td>4</td>\n",
       "      <td>32</td>\n",
       "      <td>2</td>\n",
       "      <td>32</td>\n",
       "      <td>32</td>\n",
       "      <td>56</td>\n",
       "      <td>2</td>\n",
       "      <td>2024-01-02</td>\n",
       "      <td>2024-01-02</td>\n",
       "      <td>9999-99-99</td>\n",
       "      <td>2</td>\n",
       "      <td>2</td>\n",
       "      <td>1</td>\n",
       "      <td>1</td>\n",
       "      <td>97</td>\n",
       "      <td>2</td>\n",
       "      <td>2</td>\n",
       "      <td>2</td>\n",
       "      <td>2</td>\n",
       "      <td>2</td>\n",
       "      <td>2</td>\n",
       "      <td>2</td>\n",
       "      <td>2</td>\n",
       "      <td>2</td>\n",
       "      <td>2</td>\n",
       "      <td>2</td>\n",
       "      <td>2</td>\n",
       "      <td>2</td>\n",
       "      <td>1</td>\n",
       "      <td>11</td>\n",
       "      <td>998</td>\n",
       "      <td>2</td>\n",
       "      <td>97</td>\n",
       "      <td>7</td>\n",
       "      <td>7</td>\n",
       "      <td>99</td>\n",
       "      <td>México</td>\n",
       "      <td>97</td>\n",
       "      <td>2</td>\n",
       "    </tr>\n",
       "    <tr>\n",
       "      <th>2</th>\n",
       "      <td>2025-03-04</td>\n",
       "      <td>gaa8ce3</td>\n",
       "      <td>1</td>\n",
       "      <td>12</td>\n",
       "      <td>9</td>\n",
       "      <td>1</td>\n",
       "      <td>9</td>\n",
       "      <td>15</td>\n",
       "      <td>13</td>\n",
       "      <td>1</td>\n",
       "      <td>2024-01-02</td>\n",
       "      <td>2024-01-01</td>\n",
       "      <td>9999-99-99</td>\n",
       "      <td>97</td>\n",
       "      <td>2</td>\n",
       "      <td>38</td>\n",
       "      <td>1</td>\n",
       "      <td>2</td>\n",
       "      <td>2</td>\n",
       "      <td>2</td>\n",
       "      <td>2</td>\n",
       "      <td>2</td>\n",
       "      <td>2</td>\n",
       "      <td>2</td>\n",
       "      <td>2</td>\n",
       "      <td>2</td>\n",
       "      <td>2</td>\n",
       "      <td>2</td>\n",
       "      <td>2</td>\n",
       "      <td>2</td>\n",
       "      <td>2</td>\n",
       "      <td>1</td>\n",
       "      <td>1</td>\n",
       "      <td>998</td>\n",
       "      <td>2</td>\n",
       "      <td>97</td>\n",
       "      <td>7</td>\n",
       "      <td>3</td>\n",
       "      <td>99</td>\n",
       "      <td>México</td>\n",
       "      <td>97</td>\n",
       "      <td>97</td>\n",
       "    </tr>\n",
       "    <tr>\n",
       "      <th>3</th>\n",
       "      <td>2025-03-04</td>\n",
       "      <td>g9637c9</td>\n",
       "      <td>1</td>\n",
       "      <td>4</td>\n",
       "      <td>25</td>\n",
       "      <td>1</td>\n",
       "      <td>25</td>\n",
       "      <td>25</td>\n",
       "      <td>12</td>\n",
       "      <td>2</td>\n",
       "      <td>2024-01-02</td>\n",
       "      <td>2024-01-01</td>\n",
       "      <td>9999-99-99</td>\n",
       "      <td>2</td>\n",
       "      <td>1</td>\n",
       "      <td>1</td>\n",
       "      <td>1</td>\n",
       "      <td>2</td>\n",
       "      <td>2</td>\n",
       "      <td>2</td>\n",
       "      <td>2</td>\n",
       "      <td>2</td>\n",
       "      <td>2</td>\n",
       "      <td>2</td>\n",
       "      <td>2</td>\n",
       "      <td>2</td>\n",
       "      <td>2</td>\n",
       "      <td>2</td>\n",
       "      <td>2</td>\n",
       "      <td>2</td>\n",
       "      <td>2</td>\n",
       "      <td>1</td>\n",
       "      <td>10</td>\n",
       "      <td>998</td>\n",
       "      <td>2</td>\n",
       "      <td>97</td>\n",
       "      <td>7</td>\n",
       "      <td>7</td>\n",
       "      <td>99</td>\n",
       "      <td>México</td>\n",
       "      <td>97</td>\n",
       "      <td>2</td>\n",
       "    </tr>\n",
       "    <tr>\n",
       "      <th>4</th>\n",
       "      <td>2025-03-04</td>\n",
       "      <td>g824984</td>\n",
       "      <td>1</td>\n",
       "      <td>4</td>\n",
       "      <td>32</td>\n",
       "      <td>2</td>\n",
       "      <td>32</td>\n",
       "      <td>32</td>\n",
       "      <td>17</td>\n",
       "      <td>2</td>\n",
       "      <td>2024-01-02</td>\n",
       "      <td>2024-01-02</td>\n",
       "      <td>9999-99-99</td>\n",
       "      <td>2</td>\n",
       "      <td>2</td>\n",
       "      <td>2</td>\n",
       "      <td>1</td>\n",
       "      <td>97</td>\n",
       "      <td>2</td>\n",
       "      <td>2</td>\n",
       "      <td>2</td>\n",
       "      <td>2</td>\n",
       "      <td>2</td>\n",
       "      <td>2</td>\n",
       "      <td>2</td>\n",
       "      <td>2</td>\n",
       "      <td>2</td>\n",
       "      <td>1</td>\n",
       "      <td>2</td>\n",
       "      <td>2</td>\n",
       "      <td>2</td>\n",
       "      <td>1</td>\n",
       "      <td>34</td>\n",
       "      <td>29</td>\n",
       "      <td>2</td>\n",
       "      <td>97</td>\n",
       "      <td>3</td>\n",
       "      <td>7</td>\n",
       "      <td>99</td>\n",
       "      <td>México</td>\n",
       "      <td>97</td>\n",
       "      <td>2</td>\n",
       "    </tr>\n",
       "  </tbody>\n",
       "</table>\n",
       "</div>"
      ],
      "text/plain": [
       "  FECHA_ACTUALIZACION ID_REGISTRO  ORIGEN  SECTOR  ENTIDAD_UM  SEXO  \\\n",
       "0          2025-03-04      0aa89f       1      10           9     2   \n",
       "1          2025-03-04     g76bd10       1       4          32     2   \n",
       "2          2025-03-04     gaa8ce3       1      12           9     1   \n",
       "3          2025-03-04     g9637c9       1       4          25     1   \n",
       "4          2025-03-04     g824984       1       4          32     2   \n",
       "\n",
       "   ENTIDAD_NAC  ENTIDAD_RES  MUNICIPIO_RES  TIPO_PACIENTE FECHA_INGRESO  \\\n",
       "0           15            9              3              1    2024-01-26   \n",
       "1           32           32             56              2    2024-01-02   \n",
       "2            9           15             13              1    2024-01-02   \n",
       "3           25           25             12              2    2024-01-02   \n",
       "4           32           32             17              2    2024-01-02   \n",
       "\n",
       "  FECHA_SINTOMAS   FECHA_DEF  INTUBADO  NEUMONIA  EDAD  NACIONALIDAD  \\\n",
       "0     2024-01-25  9999-99-99        97         2    31             1   \n",
       "1     2024-01-02  9999-99-99         2         2     1             1   \n",
       "2     2024-01-01  9999-99-99        97         2    38             1   \n",
       "3     2024-01-01  9999-99-99         2         1     1             1   \n",
       "4     2024-01-02  9999-99-99         2         2     2             1   \n",
       "\n",
       "   EMBARAZO  HABLA_LENGUA_INDIG  INDIGENA  DIABETES  EPOC  ASMA  INMUSUPR  \\\n",
       "0        97                   2         2         2     2     2         2   \n",
       "1        97                   2         2         2     2     2         2   \n",
       "2         2                   2         2         2     2     2         2   \n",
       "3         2                   2         2         2     2     2         2   \n",
       "4        97                   2         2         2     2     2         2   \n",
       "\n",
       "   HIPERTENSION  OTRA_COM  CARDIOVASCULAR  OBESIDAD  RENAL_CRONICA  \\\n",
       "0             2         2               2         2              2   \n",
       "1             2         2               2         2              2   \n",
       "2             2         2               2         2              2   \n",
       "3             2         2               2         2              2   \n",
       "4             2         2               2         1              2   \n",
       "\n",
       "   TABAQUISMO  OTRO_CASO  TOMA_MUESTRA_LAB  RESULTADO_PCR  \\\n",
       "0           2          1                 1              5   \n",
       "1           2          2                 1             11   \n",
       "2           2          2                 1              1   \n",
       "3           2          2                 1             10   \n",
       "4           2          2                 1             34   \n",
       "\n",
       "   RESULTADO_PCR_COINFECCION  TOMA_MUESTRA_ANTIGENO  RESULTADO_ANTIGENO  \\\n",
       "0                          5                      2                  97   \n",
       "1                        998                      2                  97   \n",
       "2                        998                      2                  97   \n",
       "3                        998                      2                  97   \n",
       "4                         29                      2                  97   \n",
       "\n",
       "   CLASIFICACION_FINAL_COVID  CLASIFICACION_FINAL_FLU  MIGRANTE  \\\n",
       "0                          7                        7        99   \n",
       "1                          7                        7        99   \n",
       "2                          7                        3        99   \n",
       "3                          7                        7        99   \n",
       "4                          3                        7        99   \n",
       "\n",
       "  PAIS_NACIONALIDAD PAIS_ORIGEN  UCI  \n",
       "0            México          97   97  \n",
       "1            México          97    2  \n",
       "2            México          97   97  \n",
       "3            México          97    2  \n",
       "4            México          97    2  "
      ]
     },
     "execution_count": 5,
     "metadata": {},
     "output_type": "execute_result"
    }
   ],
   "source": [
    "df.head()"
   ]
  },
  {
   "cell_type": "markdown",
   "metadata": {},
   "source": [
    "Se seleccionan unicamente los registros que sean confirmados y que sean casos positivos de COVID-19"
   ]
  },
  {
   "cell_type": "markdown",
   "metadata": {},
   "source": [
    "Según el catalogo de datos, los valores 1,2,3 son casos confirmados "
   ]
  },
  {
   "cell_type": "code",
   "execution_count": 6,
   "metadata": {},
   "outputs": [
    {
     "data": {
      "text/plain": [
       "CLASIFICACION_FINAL_COVID\n",
       "7    111695\n",
       "6     84712\n",
       "3     14648\n",
       "5      4314\n",
       "4       152\n",
       "Name: count, dtype: int64"
      ]
     },
     "execution_count": 6,
     "metadata": {},
     "output_type": "execute_result"
    }
   ],
   "source": [
    "df[\"CLASIFICACION_FINAL_COVID\"].value_counts()"
   ]
  },
  {
   "cell_type": "code",
   "execution_count": 7,
   "metadata": {},
   "outputs": [],
   "source": [
    "df = df[df[\"CLASIFICACION_FINAL_COVID\"] == 3]"
   ]
  },
  {
   "cell_type": "markdown",
   "metadata": {},
   "source": [
    "### Se crea una nueva variable que es saber si la persona falleció o no"
   ]
  },
  {
   "cell_type": "code",
   "execution_count": 8,
   "metadata": {},
   "outputs": [],
   "source": [
    "df[\"DEFUNCION\"] = np.where(df['FECHA_DEF'] == '9999-99-99', 2, 1)"
   ]
  },
  {
   "cell_type": "markdown",
   "metadata": {},
   "source": [
    "### Se pasa a formato fecha"
   ]
  },
  {
   "cell_type": "markdown",
   "metadata": {},
   "source": [
    "#### Primero se pasa a nulos los valores de 9999-99-99, que representan lo que no han fallecido"
   ]
  },
  {
   "cell_type": "code",
   "execution_count": 9,
   "metadata": {},
   "outputs": [],
   "source": [
    "df['FECHA_DEF'] = df['FECHA_DEF'].replace('9999-99-99', np.nan)"
   ]
  },
  {
   "cell_type": "code",
   "execution_count": 10,
   "metadata": {},
   "outputs": [],
   "source": [
    "df['FECHA_DEF'] = pd.to_datetime(df['FECHA_DEF'])"
   ]
  },
  {
   "cell_type": "code",
   "execution_count": 11,
   "metadata": {},
   "outputs": [],
   "source": [
    "df['FECHA_SINTOMAS'] = pd.to_datetime(df['FECHA_SINTOMAS'])\n",
    "df['FECHA_ACTUALIZACION'] = pd.to_datetime(df['FECHA_ACTUALIZACION'])"
   ]
  },
  {
   "cell_type": "markdown",
   "metadata": {},
   "source": [
    "Vamos a calcular el numero de dias que han pasado desde la fecha de ingreso/sintomas hasta la fecha de defuncion"
   ]
  },
  {
   "cell_type": "code",
   "execution_count": 12,
   "metadata": {},
   "outputs": [],
   "source": [
    "df['DIAS_SINTOMAS_DEF'] = (df['FECHA_DEF'] - df['FECHA_SINTOMAS']).dt.days\n",
    "df['DIAS_SINTOMAS_ACT'] = (df['FECHA_ACTUALIZACION'] - df['FECHA_SINTOMAS']).dt.days"
   ]
  },
  {
   "cell_type": "code",
   "execution_count": 13,
   "metadata": {},
   "outputs": [
    {
     "data": {
      "text/html": [
       "<div>\n",
       "<style scoped>\n",
       "    .dataframe tbody tr th:only-of-type {\n",
       "        vertical-align: middle;\n",
       "    }\n",
       "\n",
       "    .dataframe tbody tr th {\n",
       "        vertical-align: top;\n",
       "    }\n",
       "\n",
       "    .dataframe thead th {\n",
       "        text-align: right;\n",
       "    }\n",
       "</style>\n",
       "<table border=\"1\" class=\"dataframe\">\n",
       "  <thead>\n",
       "    <tr style=\"text-align: right;\">\n",
       "      <th></th>\n",
       "      <th>DIAS_SINTOMAS_DEF</th>\n",
       "      <th>DIAS_SINTOMAS_ACT</th>\n",
       "    </tr>\n",
       "  </thead>\n",
       "  <tbody>\n",
       "    <tr>\n",
       "      <th>446</th>\n",
       "      <td>16.0</td>\n",
       "      <td>428</td>\n",
       "    </tr>\n",
       "    <tr>\n",
       "      <th>767</th>\n",
       "      <td>9.0</td>\n",
       "      <td>428</td>\n",
       "    </tr>\n",
       "    <tr>\n",
       "      <th>2203</th>\n",
       "      <td>9.0</td>\n",
       "      <td>426</td>\n",
       "    </tr>\n",
       "    <tr>\n",
       "      <th>2445</th>\n",
       "      <td>0.0</td>\n",
       "      <td>421</td>\n",
       "    </tr>\n",
       "    <tr>\n",
       "      <th>2514</th>\n",
       "      <td>4.0</td>\n",
       "      <td>423</td>\n",
       "    </tr>\n",
       "    <tr>\n",
       "      <th>...</th>\n",
       "      <td>...</td>\n",
       "      <td>...</td>\n",
       "    </tr>\n",
       "    <tr>\n",
       "      <th>202943</th>\n",
       "      <td>20.0</td>\n",
       "      <td>24</td>\n",
       "    </tr>\n",
       "    <tr>\n",
       "      <th>210125</th>\n",
       "      <td>17.0</td>\n",
       "      <td>27</td>\n",
       "    </tr>\n",
       "    <tr>\n",
       "      <th>210627</th>\n",
       "      <td>3.0</td>\n",
       "      <td>10</td>\n",
       "    </tr>\n",
       "    <tr>\n",
       "      <th>210631</th>\n",
       "      <td>5.0</td>\n",
       "      <td>10</td>\n",
       "    </tr>\n",
       "    <tr>\n",
       "      <th>212047</th>\n",
       "      <td>18.0</td>\n",
       "      <td>25</td>\n",
       "    </tr>\n",
       "  </tbody>\n",
       "</table>\n",
       "<p>874 rows × 2 columns</p>\n",
       "</div>"
      ],
      "text/plain": [
       "        DIAS_SINTOMAS_DEF  DIAS_SINTOMAS_ACT\n",
       "446                  16.0                428\n",
       "767                   9.0                428\n",
       "2203                  9.0                426\n",
       "2445                  0.0                421\n",
       "2514                  4.0                423\n",
       "...                   ...                ...\n",
       "202943               20.0                 24\n",
       "210125               17.0                 27\n",
       "210627                3.0                 10\n",
       "210631                5.0                 10\n",
       "212047               18.0                 25\n",
       "\n",
       "[874 rows x 2 columns]"
      ]
     },
     "execution_count": 13,
     "metadata": {},
     "output_type": "execute_result"
    }
   ],
   "source": [
    "df[df['DEFUNCION']== 1][['DIAS_SINTOMAS_DEF','DIAS_SINTOMAS_ACT']]"
   ]
  },
  {
   "cell_type": "code",
   "execution_count": 14,
   "metadata": {},
   "outputs": [
    {
     "data": {
      "text/plain": [
       "count                  14648\n",
       "mean     2025-03-04 00:00:00\n",
       "min      2025-03-04 00:00:00\n",
       "25%      2025-03-04 00:00:00\n",
       "50%      2025-03-04 00:00:00\n",
       "75%      2025-03-04 00:00:00\n",
       "max      2025-03-04 00:00:00\n",
       "Name: FECHA_ACTUALIZACION, dtype: object"
      ]
     },
     "execution_count": 14,
     "metadata": {},
     "output_type": "execute_result"
    }
   ],
   "source": [
    "df[\"FECHA_ACTUALIZACION\"].describe()"
   ]
  },
  {
   "cell_type": "code",
   "execution_count": 15,
   "metadata": {},
   "outputs": [],
   "source": [
    "# df_2025 = df[df[\"FECHA_SINTOMAS\"] > \"2024-12-31\"]"
   ]
  },
  {
   "cell_type": "markdown",
   "metadata": {},
   "source": [
    "Seleccionamos las columnas que nos interesan para el análisis"
   ]
  },
  {
   "cell_type": "code",
   "execution_count": 16,
   "metadata": {},
   "outputs": [],
   "source": [
    "df_cox = df[[\"DEFUNCION\",\"DIAS_SINTOMAS_ACT\",\"DIAS_SINTOMAS_DEF\", \"NEUMONIA\", \"DIABETES\", \"EPOC\", \"ASMA\", \"INMUSUPR\", \"HIPERTENSION\", \"CARDIOVASCULAR\", \"OBESIDAD\", \"RENAL_CRONICA\", \"TABAQUISMO\",\"SEXO\",\"EDAD\"]]\n",
    "# df_cox = df_2025[[\"DEFUNCION\",\"DIAS_SINTOMAS_ACT\",\"DIAS_SINTOMAS_DEF\", \"NEUMONIA\", \"DIABETES\", \"EPOC\", \"ASMA\", \"INMUSUPR\", \"HIPERTENSION\", \"OTRA_COM\", \"CARDIOVASCULAR\", \"OBESIDAD\", \"RENAL_CRONICA\", \"TABAQUISMO\"]]"
   ]
  },
  {
   "cell_type": "code",
   "execution_count": 17,
   "metadata": {},
   "outputs": [
    {
     "data": {
      "text/html": [
       "<div>\n",
       "<style scoped>\n",
       "    .dataframe tbody tr th:only-of-type {\n",
       "        vertical-align: middle;\n",
       "    }\n",
       "\n",
       "    .dataframe tbody tr th {\n",
       "        vertical-align: top;\n",
       "    }\n",
       "\n",
       "    .dataframe thead th {\n",
       "        text-align: right;\n",
       "    }\n",
       "</style>\n",
       "<table border=\"1\" class=\"dataframe\">\n",
       "  <thead>\n",
       "    <tr style=\"text-align: right;\">\n",
       "      <th></th>\n",
       "      <th>DEFUNCION</th>\n",
       "      <th>DIAS_SINTOMAS_ACT</th>\n",
       "      <th>DIAS_SINTOMAS_DEF</th>\n",
       "      <th>NEUMONIA</th>\n",
       "      <th>DIABETES</th>\n",
       "      <th>EPOC</th>\n",
       "      <th>ASMA</th>\n",
       "      <th>INMUSUPR</th>\n",
       "      <th>HIPERTENSION</th>\n",
       "      <th>CARDIOVASCULAR</th>\n",
       "      <th>OBESIDAD</th>\n",
       "      <th>RENAL_CRONICA</th>\n",
       "      <th>TABAQUISMO</th>\n",
       "      <th>SEXO</th>\n",
       "      <th>EDAD</th>\n",
       "    </tr>\n",
       "  </thead>\n",
       "  <tbody>\n",
       "    <tr>\n",
       "      <th>4</th>\n",
       "      <td>2</td>\n",
       "      <td>427</td>\n",
       "      <td>NaN</td>\n",
       "      <td>2</td>\n",
       "      <td>2</td>\n",
       "      <td>2</td>\n",
       "      <td>2</td>\n",
       "      <td>2</td>\n",
       "      <td>2</td>\n",
       "      <td>2</td>\n",
       "      <td>1</td>\n",
       "      <td>2</td>\n",
       "      <td>2</td>\n",
       "      <td>2</td>\n",
       "      <td>2</td>\n",
       "    </tr>\n",
       "    <tr>\n",
       "      <th>6</th>\n",
       "      <td>2</td>\n",
       "      <td>428</td>\n",
       "      <td>NaN</td>\n",
       "      <td>2</td>\n",
       "      <td>2</td>\n",
       "      <td>2</td>\n",
       "      <td>2</td>\n",
       "      <td>2</td>\n",
       "      <td>2</td>\n",
       "      <td>2</td>\n",
       "      <td>2</td>\n",
       "      <td>2</td>\n",
       "      <td>2</td>\n",
       "      <td>1</td>\n",
       "      <td>37</td>\n",
       "    </tr>\n",
       "    <tr>\n",
       "      <th>17</th>\n",
       "      <td>2</td>\n",
       "      <td>427</td>\n",
       "      <td>NaN</td>\n",
       "      <td>2</td>\n",
       "      <td>2</td>\n",
       "      <td>2</td>\n",
       "      <td>2</td>\n",
       "      <td>2</td>\n",
       "      <td>2</td>\n",
       "      <td>2</td>\n",
       "      <td>2</td>\n",
       "      <td>2</td>\n",
       "      <td>2</td>\n",
       "      <td>1</td>\n",
       "      <td>45</td>\n",
       "    </tr>\n",
       "    <tr>\n",
       "      <th>20</th>\n",
       "      <td>2</td>\n",
       "      <td>427</td>\n",
       "      <td>NaN</td>\n",
       "      <td>2</td>\n",
       "      <td>2</td>\n",
       "      <td>2</td>\n",
       "      <td>2</td>\n",
       "      <td>2</td>\n",
       "      <td>2</td>\n",
       "      <td>2</td>\n",
       "      <td>2</td>\n",
       "      <td>2</td>\n",
       "      <td>2</td>\n",
       "      <td>1</td>\n",
       "      <td>27</td>\n",
       "    </tr>\n",
       "    <tr>\n",
       "      <th>23</th>\n",
       "      <td>2</td>\n",
       "      <td>428</td>\n",
       "      <td>NaN</td>\n",
       "      <td>2</td>\n",
       "      <td>2</td>\n",
       "      <td>2</td>\n",
       "      <td>2</td>\n",
       "      <td>2</td>\n",
       "      <td>2</td>\n",
       "      <td>2</td>\n",
       "      <td>2</td>\n",
       "      <td>2</td>\n",
       "      <td>2</td>\n",
       "      <td>2</td>\n",
       "      <td>33</td>\n",
       "    </tr>\n",
       "  </tbody>\n",
       "</table>\n",
       "</div>"
      ],
      "text/plain": [
       "    DEFUNCION  DIAS_SINTOMAS_ACT  DIAS_SINTOMAS_DEF  NEUMONIA  DIABETES  EPOC  \\\n",
       "4           2                427                NaN         2         2     2   \n",
       "6           2                428                NaN         2         2     2   \n",
       "17          2                427                NaN         2         2     2   \n",
       "20          2                427                NaN         2         2     2   \n",
       "23          2                428                NaN         2         2     2   \n",
       "\n",
       "    ASMA  INMUSUPR  HIPERTENSION  CARDIOVASCULAR  OBESIDAD  RENAL_CRONICA  \\\n",
       "4      2         2             2               2         1              2   \n",
       "6      2         2             2               2         2              2   \n",
       "17     2         2             2               2         2              2   \n",
       "20     2         2             2               2         2              2   \n",
       "23     2         2             2               2         2              2   \n",
       "\n",
       "    TABAQUISMO  SEXO  EDAD  \n",
       "4            2     2     2  \n",
       "6            2     1    37  \n",
       "17           2     1    45  \n",
       "20           2     1    27  \n",
       "23           2     2    33  "
      ]
     },
     "execution_count": 17,
     "metadata": {},
     "output_type": "execute_result"
    }
   ],
   "source": [
    "df_cox.head()"
   ]
  },
  {
   "cell_type": "code",
   "execution_count": 18,
   "metadata": {},
   "outputs": [
    {
     "data": {
      "text/plain": [
       "DEFUNCION\n",
       "2    13774\n",
       "1      874\n",
       "Name: count, dtype: int64"
      ]
     },
     "execution_count": 18,
     "metadata": {},
     "output_type": "execute_result"
    }
   ],
   "source": [
    "df_cox[\"DEFUNCION\"].value_counts()"
   ]
  },
  {
   "cell_type": "code",
   "execution_count": 19,
   "metadata": {},
   "outputs": [
    {
     "data": {
      "text/plain": [
       "(14648, 15)"
      ]
     },
     "execution_count": 19,
     "metadata": {},
     "output_type": "execute_result"
    }
   ],
   "source": [
    "df_cox.shape"
   ]
  },
  {
   "cell_type": "markdown",
   "metadata": {},
   "source": [
    "Camabiar valores para que 1 sea si (prensenta condicion o afirmacion de nombre de columna) y 0 sea no (no presenta condicion o negación de nombre de columna)"
   ]
  },
  {
   "cell_type": "code",
   "execution_count": 20,
   "metadata": {},
   "outputs": [],
   "source": [
    "day_variables = df_cox[[\"DIAS_SINTOMAS_ACT\",\"DIAS_SINTOMAS_DEF\",\"EDAD\"]]"
   ]
  },
  {
   "cell_type": "code",
   "execution_count": 21,
   "metadata": {},
   "outputs": [],
   "source": [
    "df_cox = df_cox.drop(day_variables, axis=1)"
   ]
  },
  {
   "cell_type": "code",
   "execution_count": 22,
   "metadata": {},
   "outputs": [],
   "source": [
    "df_cox.replace([1,2], [1,0], inplace=True)"
   ]
  },
  {
   "cell_type": "markdown",
   "metadata": {},
   "source": [
    "Vamos a eliminar los registros con valores nulos"
   ]
  },
  {
   "cell_type": "code",
   "execution_count": 23,
   "metadata": {},
   "outputs": [],
   "source": [
    "df_cox.replace([97,98,99], np.nan, inplace=True)"
   ]
  },
  {
   "cell_type": "code",
   "execution_count": 24,
   "metadata": {},
   "outputs": [],
   "source": [
    "df_cox = df_cox.dropna()"
   ]
  },
  {
   "cell_type": "code",
   "execution_count": 70,
   "metadata": {},
   "outputs": [
    {
     "data": {
      "text/plain": [
       "DEFUNCION\n",
       "0    0.940686\n",
       "1    0.059314\n",
       "Name: proportion, dtype: float64"
      ]
     },
     "execution_count": 70,
     "metadata": {},
     "output_type": "execute_result"
    }
   ],
   "source": [
    "df_cox[\"DEFUNCION\"].value_counts(normalize=True)"
   ]
  },
  {
   "cell_type": "code",
   "execution_count": 26,
   "metadata": {},
   "outputs": [
    {
     "data": {
      "text/plain": [
       "(14617, 12)"
      ]
     },
     "execution_count": 26,
     "metadata": {},
     "output_type": "execute_result"
    }
   ],
   "source": [
    "df_cox.shape"
   ]
  },
  {
   "cell_type": "code",
   "execution_count": 27,
   "metadata": {},
   "outputs": [],
   "source": [
    "df_cox = df_cox.astype(int)"
   ]
  },
  {
   "cell_type": "code",
   "execution_count": 28,
   "metadata": {},
   "outputs": [],
   "source": [
    "df_cox = df_cox.join(day_variables, how='left')"
   ]
  },
  {
   "cell_type": "code",
   "execution_count": 29,
   "metadata": {},
   "outputs": [
    {
     "name": "stdout",
     "output_type": "stream",
     "text": [
      "<class 'pandas.core.frame.DataFrame'>\n",
      "Index: 14617 entries, 4 to 214657\n",
      "Data columns (total 15 columns):\n",
      " #   Column             Non-Null Count  Dtype  \n",
      "---  ------             --------------  -----  \n",
      " 0   DEFUNCION          14617 non-null  int32  \n",
      " 1   NEUMONIA           14617 non-null  int32  \n",
      " 2   DIABETES           14617 non-null  int32  \n",
      " 3   EPOC               14617 non-null  int32  \n",
      " 4   ASMA               14617 non-null  int32  \n",
      " 5   INMUSUPR           14617 non-null  int32  \n",
      " 6   HIPERTENSION       14617 non-null  int32  \n",
      " 7   CARDIOVASCULAR     14617 non-null  int32  \n",
      " 8   OBESIDAD           14617 non-null  int32  \n",
      " 9   RENAL_CRONICA      14617 non-null  int32  \n",
      " 10  TABAQUISMO         14617 non-null  int32  \n",
      " 11  SEXO               14617 non-null  int32  \n",
      " 12  DIAS_SINTOMAS_ACT  14617 non-null  int64  \n",
      " 13  DIAS_SINTOMAS_DEF  867 non-null    float64\n",
      " 14  EDAD               14617 non-null  int64  \n",
      "dtypes: float64(1), int32(12), int64(2)\n",
      "memory usage: 1.6 MB\n"
     ]
    }
   ],
   "source": [
    "df_cox.info()"
   ]
  },
  {
   "cell_type": "code",
   "execution_count": 30,
   "metadata": {},
   "outputs": [
    {
     "data": {
      "text/plain": [
       "Index(['DEFUNCION', 'NEUMONIA', 'DIABETES', 'EPOC', 'ASMA', 'INMUSUPR',\n",
       "       'HIPERTENSION', 'CARDIOVASCULAR', 'OBESIDAD', 'RENAL_CRONICA',\n",
       "       'TABAQUISMO', 'SEXO', 'DIAS_SINTOMAS_ACT', 'DIAS_SINTOMAS_DEF', 'EDAD'],\n",
       "      dtype='object')"
      ]
     },
     "execution_count": 30,
     "metadata": {},
     "output_type": "execute_result"
    }
   ],
   "source": [
    "df_cox.columns"
   ]
  },
  {
   "cell_type": "markdown",
   "metadata": {},
   "source": [
    "En los dias transcurridos hasta el evento, para los pacientes que fallecieron, los valores se reemplazan por los días desde la fecha del inicio de los sintomas, hasta la fecha de defuncion. Para los pacientes que no fallecieron, el valor de dias transcurridos se reemplazan por los dias desde el inicio de los sintomas hasta la ultima fecha de actualización del conjunto de datos(representa el ultimo dia de estudio)"
   ]
  },
  {
   "cell_type": "code",
   "execution_count": 31,
   "metadata": {},
   "outputs": [],
   "source": [
    "df_cox[\"DIAS_TRANSCURRIDOS\"] = np.where(df_cox['DEFUNCION'] == 0, df_cox[\"DIAS_SINTOMAS_ACT\"], df_cox[\"DIAS_SINTOMAS_DEF\"])"
   ]
  },
  {
   "cell_type": "code",
   "execution_count": 32,
   "metadata": {},
   "outputs": [
    {
     "data": {
      "text/html": [
       "<div>\n",
       "<style scoped>\n",
       "    .dataframe tbody tr th:only-of-type {\n",
       "        vertical-align: middle;\n",
       "    }\n",
       "\n",
       "    .dataframe tbody tr th {\n",
       "        vertical-align: top;\n",
       "    }\n",
       "\n",
       "    .dataframe thead th {\n",
       "        text-align: right;\n",
       "    }\n",
       "</style>\n",
       "<table border=\"1\" class=\"dataframe\">\n",
       "  <thead>\n",
       "    <tr style=\"text-align: right;\">\n",
       "      <th></th>\n",
       "      <th>DEFUNCION</th>\n",
       "      <th>NEUMONIA</th>\n",
       "      <th>DIABETES</th>\n",
       "      <th>EPOC</th>\n",
       "      <th>ASMA</th>\n",
       "      <th>INMUSUPR</th>\n",
       "      <th>HIPERTENSION</th>\n",
       "      <th>CARDIOVASCULAR</th>\n",
       "      <th>OBESIDAD</th>\n",
       "      <th>RENAL_CRONICA</th>\n",
       "      <th>TABAQUISMO</th>\n",
       "      <th>SEXO</th>\n",
       "      <th>DIAS_SINTOMAS_ACT</th>\n",
       "      <th>DIAS_SINTOMAS_DEF</th>\n",
       "      <th>EDAD</th>\n",
       "      <th>DIAS_TRANSCURRIDOS</th>\n",
       "    </tr>\n",
       "  </thead>\n",
       "  <tbody>\n",
       "    <tr>\n",
       "      <th>4</th>\n",
       "      <td>0</td>\n",
       "      <td>0</td>\n",
       "      <td>0</td>\n",
       "      <td>0</td>\n",
       "      <td>0</td>\n",
       "      <td>0</td>\n",
       "      <td>0</td>\n",
       "      <td>0</td>\n",
       "      <td>1</td>\n",
       "      <td>0</td>\n",
       "      <td>0</td>\n",
       "      <td>0</td>\n",
       "      <td>427</td>\n",
       "      <td>NaN</td>\n",
       "      <td>2</td>\n",
       "      <td>427.0</td>\n",
       "    </tr>\n",
       "    <tr>\n",
       "      <th>6</th>\n",
       "      <td>0</td>\n",
       "      <td>0</td>\n",
       "      <td>0</td>\n",
       "      <td>0</td>\n",
       "      <td>0</td>\n",
       "      <td>0</td>\n",
       "      <td>0</td>\n",
       "      <td>0</td>\n",
       "      <td>0</td>\n",
       "      <td>0</td>\n",
       "      <td>0</td>\n",
       "      <td>1</td>\n",
       "      <td>428</td>\n",
       "      <td>NaN</td>\n",
       "      <td>37</td>\n",
       "      <td>428.0</td>\n",
       "    </tr>\n",
       "    <tr>\n",
       "      <th>17</th>\n",
       "      <td>0</td>\n",
       "      <td>0</td>\n",
       "      <td>0</td>\n",
       "      <td>0</td>\n",
       "      <td>0</td>\n",
       "      <td>0</td>\n",
       "      <td>0</td>\n",
       "      <td>0</td>\n",
       "      <td>0</td>\n",
       "      <td>0</td>\n",
       "      <td>0</td>\n",
       "      <td>1</td>\n",
       "      <td>427</td>\n",
       "      <td>NaN</td>\n",
       "      <td>45</td>\n",
       "      <td>427.0</td>\n",
       "    </tr>\n",
       "    <tr>\n",
       "      <th>20</th>\n",
       "      <td>0</td>\n",
       "      <td>0</td>\n",
       "      <td>0</td>\n",
       "      <td>0</td>\n",
       "      <td>0</td>\n",
       "      <td>0</td>\n",
       "      <td>0</td>\n",
       "      <td>0</td>\n",
       "      <td>0</td>\n",
       "      <td>0</td>\n",
       "      <td>0</td>\n",
       "      <td>1</td>\n",
       "      <td>427</td>\n",
       "      <td>NaN</td>\n",
       "      <td>27</td>\n",
       "      <td>427.0</td>\n",
       "    </tr>\n",
       "    <tr>\n",
       "      <th>23</th>\n",
       "      <td>0</td>\n",
       "      <td>0</td>\n",
       "      <td>0</td>\n",
       "      <td>0</td>\n",
       "      <td>0</td>\n",
       "      <td>0</td>\n",
       "      <td>0</td>\n",
       "      <td>0</td>\n",
       "      <td>0</td>\n",
       "      <td>0</td>\n",
       "      <td>0</td>\n",
       "      <td>0</td>\n",
       "      <td>428</td>\n",
       "      <td>NaN</td>\n",
       "      <td>33</td>\n",
       "      <td>428.0</td>\n",
       "    </tr>\n",
       "    <tr>\n",
       "      <th>...</th>\n",
       "      <td>...</td>\n",
       "      <td>...</td>\n",
       "      <td>...</td>\n",
       "      <td>...</td>\n",
       "      <td>...</td>\n",
       "      <td>...</td>\n",
       "      <td>...</td>\n",
       "      <td>...</td>\n",
       "      <td>...</td>\n",
       "      <td>...</td>\n",
       "      <td>...</td>\n",
       "      <td>...</td>\n",
       "      <td>...</td>\n",
       "      <td>...</td>\n",
       "      <td>...</td>\n",
       "      <td>...</td>\n",
       "    </tr>\n",
       "    <tr>\n",
       "      <th>214130</th>\n",
       "      <td>0</td>\n",
       "      <td>0</td>\n",
       "      <td>0</td>\n",
       "      <td>0</td>\n",
       "      <td>0</td>\n",
       "      <td>0</td>\n",
       "      <td>0</td>\n",
       "      <td>0</td>\n",
       "      <td>0</td>\n",
       "      <td>0</td>\n",
       "      <td>0</td>\n",
       "      <td>1</td>\n",
       "      <td>7</td>\n",
       "      <td>NaN</td>\n",
       "      <td>47</td>\n",
       "      <td>7.0</td>\n",
       "    </tr>\n",
       "    <tr>\n",
       "      <th>214182</th>\n",
       "      <td>0</td>\n",
       "      <td>0</td>\n",
       "      <td>0</td>\n",
       "      <td>0</td>\n",
       "      <td>0</td>\n",
       "      <td>1</td>\n",
       "      <td>0</td>\n",
       "      <td>1</td>\n",
       "      <td>0</td>\n",
       "      <td>0</td>\n",
       "      <td>1</td>\n",
       "      <td>1</td>\n",
       "      <td>9</td>\n",
       "      <td>NaN</td>\n",
       "      <td>42</td>\n",
       "      <td>9.0</td>\n",
       "    </tr>\n",
       "    <tr>\n",
       "      <th>214559</th>\n",
       "      <td>0</td>\n",
       "      <td>0</td>\n",
       "      <td>1</td>\n",
       "      <td>0</td>\n",
       "      <td>0</td>\n",
       "      <td>0</td>\n",
       "      <td>1</td>\n",
       "      <td>0</td>\n",
       "      <td>0</td>\n",
       "      <td>0</td>\n",
       "      <td>0</td>\n",
       "      <td>1</td>\n",
       "      <td>10</td>\n",
       "      <td>NaN</td>\n",
       "      <td>69</td>\n",
       "      <td>10.0</td>\n",
       "    </tr>\n",
       "    <tr>\n",
       "      <th>214561</th>\n",
       "      <td>0</td>\n",
       "      <td>1</td>\n",
       "      <td>0</td>\n",
       "      <td>0</td>\n",
       "      <td>0</td>\n",
       "      <td>1</td>\n",
       "      <td>0</td>\n",
       "      <td>0</td>\n",
       "      <td>0</td>\n",
       "      <td>0</td>\n",
       "      <td>0</td>\n",
       "      <td>1</td>\n",
       "      <td>7</td>\n",
       "      <td>NaN</td>\n",
       "      <td>54</td>\n",
       "      <td>7.0</td>\n",
       "    </tr>\n",
       "    <tr>\n",
       "      <th>214657</th>\n",
       "      <td>0</td>\n",
       "      <td>0</td>\n",
       "      <td>1</td>\n",
       "      <td>0</td>\n",
       "      <td>0</td>\n",
       "      <td>0</td>\n",
       "      <td>1</td>\n",
       "      <td>0</td>\n",
       "      <td>0</td>\n",
       "      <td>0</td>\n",
       "      <td>1</td>\n",
       "      <td>0</td>\n",
       "      <td>5</td>\n",
       "      <td>NaN</td>\n",
       "      <td>78</td>\n",
       "      <td>5.0</td>\n",
       "    </tr>\n",
       "  </tbody>\n",
       "</table>\n",
       "<p>14617 rows × 16 columns</p>\n",
       "</div>"
      ],
      "text/plain": [
       "        DEFUNCION  NEUMONIA  DIABETES  EPOC  ASMA  INMUSUPR  HIPERTENSION  \\\n",
       "4               0         0         0     0     0         0             0   \n",
       "6               0         0         0     0     0         0             0   \n",
       "17              0         0         0     0     0         0             0   \n",
       "20              0         0         0     0     0         0             0   \n",
       "23              0         0         0     0     0         0             0   \n",
       "...           ...       ...       ...   ...   ...       ...           ...   \n",
       "214130          0         0         0     0     0         0             0   \n",
       "214182          0         0         0     0     0         1             0   \n",
       "214559          0         0         1     0     0         0             1   \n",
       "214561          0         1         0     0     0         1             0   \n",
       "214657          0         0         1     0     0         0             1   \n",
       "\n",
       "        CARDIOVASCULAR  OBESIDAD  RENAL_CRONICA  TABAQUISMO  SEXO  \\\n",
       "4                    0         1              0           0     0   \n",
       "6                    0         0              0           0     1   \n",
       "17                   0         0              0           0     1   \n",
       "20                   0         0              0           0     1   \n",
       "23                   0         0              0           0     0   \n",
       "...                ...       ...            ...         ...   ...   \n",
       "214130               0         0              0           0     1   \n",
       "214182               1         0              0           1     1   \n",
       "214559               0         0              0           0     1   \n",
       "214561               0         0              0           0     1   \n",
       "214657               0         0              0           1     0   \n",
       "\n",
       "        DIAS_SINTOMAS_ACT  DIAS_SINTOMAS_DEF  EDAD  DIAS_TRANSCURRIDOS  \n",
       "4                     427                NaN     2               427.0  \n",
       "6                     428                NaN    37               428.0  \n",
       "17                    427                NaN    45               427.0  \n",
       "20                    427                NaN    27               427.0  \n",
       "23                    428                NaN    33               428.0  \n",
       "...                   ...                ...   ...                 ...  \n",
       "214130                  7                NaN    47                 7.0  \n",
       "214182                  9                NaN    42                 9.0  \n",
       "214559                 10                NaN    69                10.0  \n",
       "214561                  7                NaN    54                 7.0  \n",
       "214657                  5                NaN    78                 5.0  \n",
       "\n",
       "[14617 rows x 16 columns]"
      ]
     },
     "execution_count": 32,
     "metadata": {},
     "output_type": "execute_result"
    }
   ],
   "source": [
    "df_cox"
   ]
  },
  {
   "cell_type": "code",
   "execution_count": 33,
   "metadata": {},
   "outputs": [],
   "source": [
    "df_cox.drop([\"DIAS_SINTOMAS_ACT\", \"DIAS_SINTOMAS_DEF\"], axis=1, inplace=True)"
   ]
  },
  {
   "cell_type": "code",
   "execution_count": 34,
   "metadata": {},
   "outputs": [
    {
     "data": {
      "text/plain": [
       "Index(['DEFUNCION', 'NEUMONIA', 'DIABETES', 'EPOC', 'ASMA', 'INMUSUPR',\n",
       "       'HIPERTENSION', 'CARDIOVASCULAR', 'OBESIDAD', 'RENAL_CRONICA',\n",
       "       'TABAQUISMO', 'SEXO', 'EDAD', 'DIAS_TRANSCURRIDOS'],\n",
       "      dtype='object')"
      ]
     },
     "execution_count": 34,
     "metadata": {},
     "output_type": "execute_result"
    }
   ],
   "source": [
    "df_cox.columns"
   ]
  },
  {
   "cell_type": "code",
   "execution_count": 36,
   "metadata": {},
   "outputs": [],
   "source": [
    "df_cox.columns = ['DEFUNCION', 'NEUMONIA', 'DIABETES', 'EPOC', 'ASMA', 'INMUSUPR',\n",
    "       'HIPERTENSION', 'CARDIOVASCULAR', 'OBESIDAD',\n",
    "       'RENAL_CRONICA', 'TABAQUISMO', 'SEXO','EDAD', 'DIAS_SINTOMAS_DEF']"
   ]
  },
  {
   "cell_type": "code",
   "execution_count": 38,
   "metadata": {},
   "outputs": [
    {
     "name": "stdout",
     "output_type": "stream",
     "text": [
      "<class 'pandas.core.frame.DataFrame'>\n",
      "Index: 14617 entries, 4 to 214657\n",
      "Data columns (total 14 columns):\n",
      " #   Column             Non-Null Count  Dtype  \n",
      "---  ------             --------------  -----  \n",
      " 0   DEFUNCION          14617 non-null  int32  \n",
      " 1   NEUMONIA           14617 non-null  int32  \n",
      " 2   DIABETES           14617 non-null  int32  \n",
      " 3   EPOC               14617 non-null  int32  \n",
      " 4   ASMA               14617 non-null  int32  \n",
      " 5   INMUSUPR           14617 non-null  int32  \n",
      " 6   HIPERTENSION       14617 non-null  int32  \n",
      " 7   CARDIOVASCULAR     14617 non-null  int32  \n",
      " 8   OBESIDAD           14617 non-null  int32  \n",
      " 9   RENAL_CRONICA      14617 non-null  int32  \n",
      " 10  TABAQUISMO         14617 non-null  int32  \n",
      " 11  SEXO               14617 non-null  int32  \n",
      " 12  EDAD               14617 non-null  int64  \n",
      " 13  DIAS_SINTOMAS_DEF  14617 non-null  float64\n",
      "dtypes: float64(1), int32(12), int64(1)\n",
      "memory usage: 1.5 MB\n"
     ]
    }
   ],
   "source": [
    "df_cox.info()"
   ]
  },
  {
   "cell_type": "code",
   "execution_count": 39,
   "metadata": {},
   "outputs": [],
   "source": [
    "df_cox = df_cox.astype(int)"
   ]
  },
  {
   "cell_type": "markdown",
   "metadata": {},
   "source": [
    "# Descripción de las caracteristicas"
   ]
  },
  {
   "cell_type": "code",
   "execution_count": 68,
   "metadata": {},
   "outputs": [
    {
     "data": {
      "text/plain": [
       "count    13750.000000\n",
       "mean        42.690545\n",
       "std         21.902382\n",
       "min          0.000000\n",
       "25%         28.000000\n",
       "50%         41.000000\n",
       "75%         58.000000\n",
       "max        109.000000\n",
       "Name: EDAD, dtype: float64"
      ]
     },
     "execution_count": 68,
     "metadata": {},
     "output_type": "execute_result"
    }
   ],
   "source": [
    "df_cox[df_cox[\"DEFUNCION\"] == 0].EDAD.describe()"
   ]
  },
  {
   "cell_type": "code",
   "execution_count": 69,
   "metadata": {},
   "outputs": [
    {
     "data": {
      "text/plain": [
       "count    867.000000\n",
       "mean      65.346021\n",
       "std       22.334177\n",
       "min        0.000000\n",
       "25%       56.000000\n",
       "50%       71.000000\n",
       "75%       81.000000\n",
       "max      102.000000\n",
       "Name: EDAD, dtype: float64"
      ]
     },
     "execution_count": 69,
     "metadata": {},
     "output_type": "execute_result"
    }
   ],
   "source": [
    "df_cox[df_cox[\"DEFUNCION\"] == 1].EDAD.describe()"
   ]
  },
  {
   "cell_type": "code",
   "execution_count": 85,
   "metadata": {},
   "outputs": [
    {
     "data": {
      "text/plain": [
       "DEFUNCION\n",
       "0    0.91178\n",
       "1    0.08822\n",
       "Name: proportion, dtype: float64"
      ]
     },
     "execution_count": 85,
     "metadata": {},
     "output_type": "execute_result"
    }
   ],
   "source": [
    "df_cox[df_cox[\"SEXO\"] == 0].DEFUNCION.value_counts(normalize=True)"
   ]
  },
  {
   "cell_type": "code",
   "execution_count": 86,
   "metadata": {},
   "outputs": [
    {
     "data": {
      "text/plain": [
       "DEFUNCION\n",
       "0    0.960345\n",
       "1    0.039655\n",
       "Name: proportion, dtype: float64"
      ]
     },
     "execution_count": 86,
     "metadata": {},
     "output_type": "execute_result"
    }
   ],
   "source": [
    "df_cox[df_cox[\"SEXO\"] == 1].DEFUNCION.value_counts(normalize=True)"
   ]
  },
  {
   "cell_type": "code",
   "execution_count": 43,
   "metadata": {},
   "outputs": [
    {
     "data": {
      "text/plain": [
       "count    13750.000000\n",
       "mean       285.232145\n",
       "std         99.418546\n",
       "min          4.000000\n",
       "25%        218.000000\n",
       "50%        265.000000\n",
       "75%        382.000000\n",
       "max        428.000000\n",
       "Name: DIAS_SINTOMAS_DEF, dtype: float64"
      ]
     },
     "execution_count": 43,
     "metadata": {},
     "output_type": "execute_result"
    }
   ],
   "source": [
    "df_cox[df_cox[\"DEFUNCION\"] == 0].DIAS_SINTOMAS_DEF.describe()"
   ]
  },
  {
   "cell_type": "code",
   "execution_count": 44,
   "metadata": {},
   "outputs": [
    {
     "data": {
      "text/plain": [
       "count    867.000000\n",
       "mean      11.189158\n",
       "std       16.279990\n",
       "min        0.000000\n",
       "25%        4.000000\n",
       "50%        8.000000\n",
       "75%       14.000000\n",
       "max      373.000000\n",
       "Name: DIAS_SINTOMAS_DEF, dtype: float64"
      ]
     },
     "execution_count": 44,
     "metadata": {},
     "output_type": "execute_result"
    }
   ],
   "source": [
    "df_cox[df_cox[\"DEFUNCION\"] == 1].DIAS_SINTOMAS_DEF.describe()"
   ]
  },
  {
   "cell_type": "code",
   "execution_count": 50,
   "metadata": {},
   "outputs": [
    {
     "data": {
      "text/plain": [
       "count    867.000000\n",
       "mean      11.189158\n",
       "std       16.279990\n",
       "min        0.000000\n",
       "25%        4.000000\n",
       "50%        8.000000\n",
       "75%       14.000000\n",
       "max      373.000000\n",
       "Name: DIAS_SINTOMAS_DEF, dtype: float64"
      ]
     },
     "execution_count": 50,
     "metadata": {},
     "output_type": "execute_result"
    }
   ],
   "source": [
    "df_cox[df_cox[\"DEFUNCION\"] == 1].DIAS_SINTOMAS_DEF.describe()"
   ]
  },
  {
   "cell_type": "code",
   "execution_count": null,
   "metadata": {},
   "outputs": [],
   "source": [
    "comorbilidades = [['NEUMONIA', 'DIABETES', 'EPOC', 'ASMA', 'INMUSUPR',\n",
    "       'HIPERTENSION', 'CARDIOVASCULAR', 'OBESIDAD', 'RENAL_CRONICA',\n",
    "       'TABAQUISMO']]"
   ]
  },
  {
   "cell_type": "code",
   "execution_count": 79,
   "metadata": {},
   "outputs": [
    {
     "name": "stdout",
     "output_type": "stream",
     "text": [
      "\n",
      "COMORBILIDAD: NEUMONIA\n",
      "DEFUNCION\n",
      "0    0.781368\n",
      "1    0.218632\n",
      "Name: proportion, dtype: float64\n",
      "\n",
      "COMORBILIDAD: DIABETES\n",
      "DEFUNCION\n",
      "0    0.850163\n",
      "1    0.149837\n",
      "Name: proportion, dtype: float64\n",
      "\n",
      "COMORBILIDAD: EPOC\n",
      "DEFUNCION\n",
      "0    0.807606\n",
      "1    0.192394\n",
      "Name: proportion, dtype: float64\n",
      "\n",
      "COMORBILIDAD: ASMA\n",
      "DEFUNCION\n",
      "0    0.957404\n",
      "1    0.042596\n",
      "Name: proportion, dtype: float64\n",
      "\n",
      "COMORBILIDAD: INMUSUPR\n",
      "DEFUNCION\n",
      "0    0.891192\n",
      "1    0.108808\n",
      "Name: proportion, dtype: float64\n",
      "\n",
      "COMORBILIDAD: HIPERTENSION\n",
      "DEFUNCION\n",
      "0    0.861604\n",
      "1    0.138396\n",
      "Name: proportion, dtype: float64\n",
      "\n",
      "COMORBILIDAD: CARDIOVASCULAR\n",
      "DEFUNCION\n",
      "0    0.82397\n",
      "1    0.17603\n",
      "Name: proportion, dtype: float64\n",
      "\n",
      "COMORBILIDAD: OBESIDAD\n",
      "DEFUNCION\n",
      "0    0.926108\n",
      "1    0.073892\n",
      "Name: proportion, dtype: float64\n",
      "\n",
      "COMORBILIDAD: RENAL_CRONICA\n",
      "DEFUNCION\n",
      "0    0.808547\n",
      "1    0.191453\n",
      "Name: proportion, dtype: float64\n",
      "\n",
      "COMORBILIDAD: TABAQUISMO\n",
      "DEFUNCION\n",
      "0    0.865103\n",
      "1    0.134897\n",
      "Name: proportion, dtype: float64\n"
     ]
    }
   ],
   "source": [
    "for comorbilidad in comorbilidades:\n",
    "    print(\"\")\n",
    "    print(\"COMORBILIDAD: \" + comorbilidad)\n",
    "    print(df_cox[df_cox[comorbilidad] == 1].DEFUNCION.value_counts(normalize=True))"
   ]
  },
  {
   "cell_type": "code",
   "execution_count": null,
   "metadata": {},
   "outputs": [],
   "source": []
  }
 ],
 "metadata": {
  "kernelspec": {
   "display_name": "Python 3",
   "language": "python",
   "name": "python3"
  },
  "language_info": {
   "codemirror_mode": {
    "name": "ipython",
    "version": 3
   },
   "file_extension": ".py",
   "mimetype": "text/x-python",
   "name": "python",
   "nbconvert_exporter": "python",
   "pygments_lexer": "ipython3",
   "version": "3.10.5"
  }
 },
 "nbformat": 4,
 "nbformat_minor": 2
}
